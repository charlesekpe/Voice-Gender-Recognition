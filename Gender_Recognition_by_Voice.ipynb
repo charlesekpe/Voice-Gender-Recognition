{
  "nbformat": 4,
  "nbformat_minor": 0,
  "metadata": {
    "colab": {
      "name": "Gender Recognition by Voice.ipynb",
      "provenance": [],
      "collapsed_sections": [],
      "authorship_tag": "ABX9TyN1ggpbT8lfbDrRSd0yaHpY"
    },
    "kernelspec": {
      "name": "python3",
      "display_name": "Python 3"
    },
    "language_info": {
      "name": "python"
    }
  },
  "cells": [
    {
      "cell_type": "markdown",
      "metadata": {
        "id": "WVJxKOHojqcg"
      },
      "source": [
        "**IMPORTING THE NECESSARY LIBRARIES**"
      ]
    },
    {
      "cell_type": "code",
      "metadata": {
        "id": "DGM0j7rwj0b8"
      },
      "source": [
        "import pandas as pd\n",
        "import numpy as np\n",
        "import seaborn as sns\n",
        "import itertools\n",
        "import matplotlib.pyplot as plt\n",
        "%matplotlib inline\n",
        "\n",
        "from sklearn.model_selection import cross_val_score, train_test_split, GridSearchCV\n",
        "from sklearn import metrics\n",
        "from sklearn.preprocessing import StandardScaler, LabelEncoder\n",
        "\n",
        "import matplotlib.gridspec as gridspec\n",
        "\n",
        "from mlxtend.plotting import plot_decision_regions\n",
        "from mlxtend.preprocessing import shuffle_arrays_unison\n",
        "\n",
        "from sklearn.svm import SVC\n",
        "from sklearn.ensemble import RandomForestClassifier\n",
        "from sklearn.tree import DecisionTreeClassifier\n",
        "from xgboost import XGBClassifier"
      ],
      "execution_count": 32,
      "outputs": []
    },
    {
      "cell_type": "code",
      "metadata": {
        "colab": {
          "base_uri": "https://localhost:8080/",
          "height": 224
        },
        "id": "dXTwT1dektyK",
        "outputId": "45d2a947-59b0-4edd-ae25-d0ffb7857ea7"
      },
      "source": [
        "#Loading the dataset\n",
        "df = pd.read_csv(\"voice.csv\")\n",
        "df.head()"
      ],
      "execution_count": 33,
      "outputs": [
        {
          "output_type": "execute_result",
          "data": {
            "text/html": [
              "<div>\n",
              "<style scoped>\n",
              "    .dataframe tbody tr th:only-of-type {\n",
              "        vertical-align: middle;\n",
              "    }\n",
              "\n",
              "    .dataframe tbody tr th {\n",
              "        vertical-align: top;\n",
              "    }\n",
              "\n",
              "    .dataframe thead th {\n",
              "        text-align: right;\n",
              "    }\n",
              "</style>\n",
              "<table border=\"1\" class=\"dataframe\">\n",
              "  <thead>\n",
              "    <tr style=\"text-align: right;\">\n",
              "      <th></th>\n",
              "      <th>meanfreq</th>\n",
              "      <th>sd</th>\n",
              "      <th>median</th>\n",
              "      <th>Q25</th>\n",
              "      <th>Q75</th>\n",
              "      <th>IQR</th>\n",
              "      <th>skew</th>\n",
              "      <th>kurt</th>\n",
              "      <th>sp.ent</th>\n",
              "      <th>sfm</th>\n",
              "      <th>mode</th>\n",
              "      <th>centroid</th>\n",
              "      <th>meanfun</th>\n",
              "      <th>minfun</th>\n",
              "      <th>maxfun</th>\n",
              "      <th>meandom</th>\n",
              "      <th>mindom</th>\n",
              "      <th>maxdom</th>\n",
              "      <th>dfrange</th>\n",
              "      <th>modindx</th>\n",
              "      <th>label</th>\n",
              "    </tr>\n",
              "  </thead>\n",
              "  <tbody>\n",
              "    <tr>\n",
              "      <th>0</th>\n",
              "      <td>0.059781</td>\n",
              "      <td>0.064241</td>\n",
              "      <td>0.032027</td>\n",
              "      <td>0.015071</td>\n",
              "      <td>0.090193</td>\n",
              "      <td>0.075122</td>\n",
              "      <td>12.863462</td>\n",
              "      <td>274.402906</td>\n",
              "      <td>0.893369</td>\n",
              "      <td>0.491918</td>\n",
              "      <td>0.000000</td>\n",
              "      <td>0.059781</td>\n",
              "      <td>0.084279</td>\n",
              "      <td>0.015702</td>\n",
              "      <td>0.275862</td>\n",
              "      <td>0.007812</td>\n",
              "      <td>0.007812</td>\n",
              "      <td>0.007812</td>\n",
              "      <td>0.000000</td>\n",
              "      <td>0.000000</td>\n",
              "      <td>male</td>\n",
              "    </tr>\n",
              "    <tr>\n",
              "      <th>1</th>\n",
              "      <td>0.066009</td>\n",
              "      <td>0.067310</td>\n",
              "      <td>0.040229</td>\n",
              "      <td>0.019414</td>\n",
              "      <td>0.092666</td>\n",
              "      <td>0.073252</td>\n",
              "      <td>22.423285</td>\n",
              "      <td>634.613855</td>\n",
              "      <td>0.892193</td>\n",
              "      <td>0.513724</td>\n",
              "      <td>0.000000</td>\n",
              "      <td>0.066009</td>\n",
              "      <td>0.107937</td>\n",
              "      <td>0.015826</td>\n",
              "      <td>0.250000</td>\n",
              "      <td>0.009014</td>\n",
              "      <td>0.007812</td>\n",
              "      <td>0.054688</td>\n",
              "      <td>0.046875</td>\n",
              "      <td>0.052632</td>\n",
              "      <td>male</td>\n",
              "    </tr>\n",
              "    <tr>\n",
              "      <th>2</th>\n",
              "      <td>0.077316</td>\n",
              "      <td>0.083829</td>\n",
              "      <td>0.036718</td>\n",
              "      <td>0.008701</td>\n",
              "      <td>0.131908</td>\n",
              "      <td>0.123207</td>\n",
              "      <td>30.757155</td>\n",
              "      <td>1024.927705</td>\n",
              "      <td>0.846389</td>\n",
              "      <td>0.478905</td>\n",
              "      <td>0.000000</td>\n",
              "      <td>0.077316</td>\n",
              "      <td>0.098706</td>\n",
              "      <td>0.015656</td>\n",
              "      <td>0.271186</td>\n",
              "      <td>0.007990</td>\n",
              "      <td>0.007812</td>\n",
              "      <td>0.015625</td>\n",
              "      <td>0.007812</td>\n",
              "      <td>0.046512</td>\n",
              "      <td>male</td>\n",
              "    </tr>\n",
              "    <tr>\n",
              "      <th>3</th>\n",
              "      <td>0.151228</td>\n",
              "      <td>0.072111</td>\n",
              "      <td>0.158011</td>\n",
              "      <td>0.096582</td>\n",
              "      <td>0.207955</td>\n",
              "      <td>0.111374</td>\n",
              "      <td>1.232831</td>\n",
              "      <td>4.177296</td>\n",
              "      <td>0.963322</td>\n",
              "      <td>0.727232</td>\n",
              "      <td>0.083878</td>\n",
              "      <td>0.151228</td>\n",
              "      <td>0.088965</td>\n",
              "      <td>0.017798</td>\n",
              "      <td>0.250000</td>\n",
              "      <td>0.201497</td>\n",
              "      <td>0.007812</td>\n",
              "      <td>0.562500</td>\n",
              "      <td>0.554688</td>\n",
              "      <td>0.247119</td>\n",
              "      <td>male</td>\n",
              "    </tr>\n",
              "    <tr>\n",
              "      <th>4</th>\n",
              "      <td>0.135120</td>\n",
              "      <td>0.079146</td>\n",
              "      <td>0.124656</td>\n",
              "      <td>0.078720</td>\n",
              "      <td>0.206045</td>\n",
              "      <td>0.127325</td>\n",
              "      <td>1.101174</td>\n",
              "      <td>4.333713</td>\n",
              "      <td>0.971955</td>\n",
              "      <td>0.783568</td>\n",
              "      <td>0.104261</td>\n",
              "      <td>0.135120</td>\n",
              "      <td>0.106398</td>\n",
              "      <td>0.016931</td>\n",
              "      <td>0.266667</td>\n",
              "      <td>0.712812</td>\n",
              "      <td>0.007812</td>\n",
              "      <td>5.484375</td>\n",
              "      <td>5.476562</td>\n",
              "      <td>0.208274</td>\n",
              "      <td>male</td>\n",
              "    </tr>\n",
              "  </tbody>\n",
              "</table>\n",
              "</div>"
            ],
            "text/plain": [
              "   meanfreq        sd    median       Q25  ...    maxdom   dfrange   modindx  label\n",
              "0  0.059781  0.064241  0.032027  0.015071  ...  0.007812  0.000000  0.000000   male\n",
              "1  0.066009  0.067310  0.040229  0.019414  ...  0.054688  0.046875  0.052632   male\n",
              "2  0.077316  0.083829  0.036718  0.008701  ...  0.015625  0.007812  0.046512   male\n",
              "3  0.151228  0.072111  0.158011  0.096582  ...  0.562500  0.554688  0.247119   male\n",
              "4  0.135120  0.079146  0.124656  0.078720  ...  5.484375  5.476562  0.208274   male\n",
              "\n",
              "[5 rows x 21 columns]"
            ]
          },
          "metadata": {},
          "execution_count": 33
        }
      ]
    },
    {
      "cell_type": "markdown",
      "metadata": {
        "id": "ENky1jyOllGJ"
      },
      "source": [
        "***EDA(EXPLORATORY DATA ANALYSIS)***"
      ]
    },
    {
      "cell_type": "code",
      "metadata": {
        "colab": {
          "base_uri": "https://localhost:8080/"
        },
        "id": "Pp1993yglCap",
        "outputId": "e8404c4d-8bd6-4bf2-ba20-08947de30deb"
      },
      "source": [
        "print(df.isnull().sum())\n",
        "print(\"Total number of labels: {}\".format(df.shape[0]))\n",
        "print(\"Number of male: {}\".format(df[df.label == 'male'].shape[0]))\n",
        "print(\"Number of female: {}\".format(df[df.label == 'female'].shape[0]))"
      ],
      "execution_count": 34,
      "outputs": [
        {
          "output_type": "stream",
          "name": "stdout",
          "text": [
            "meanfreq    0\n",
            "sd          0\n",
            "median      0\n",
            "Q25         0\n",
            "Q75         0\n",
            "IQR         0\n",
            "skew        0\n",
            "kurt        0\n",
            "sp.ent      0\n",
            "sfm         0\n",
            "mode        0\n",
            "centroid    0\n",
            "meanfun     0\n",
            "minfun      0\n",
            "maxfun      0\n",
            "meandom     0\n",
            "mindom      0\n",
            "maxdom      0\n",
            "dfrange     0\n",
            "modindx     0\n",
            "label       0\n",
            "dtype: int64\n",
            "Total number of labels: 3168\n",
            "Number of male: 1584\n",
            "Number of female: 1584\n"
          ]
        }
      ]
    },
    {
      "cell_type": "markdown",
      "metadata": {
        "id": "bPFF1bhMmJ1x"
      },
      "source": [
        "**Encoding, Stardization and Getting the Data ready for training**"
      ]
    },
    {
      "cell_type": "code",
      "metadata": {
        "id": "shxA6kdql4il"
      },
      "source": [
        "#Since there are no null values\n",
        "X=df.iloc[:, :-1]\n",
        "\n",
        "## Encoding\n",
        "y=df.iloc[:,-1]\n",
        "enc = LabelEncoder()\n",
        "y = enc.fit_transform(y)\n",
        "\n",
        "## Standard\n",
        "scaler = StandardScaler()\n",
        "scaler.fit(X)\n",
        "X = scaler.transform(X)"
      ],
      "execution_count": 35,
      "outputs": []
    },
    {
      "cell_type": "markdown",
      "metadata": {
        "id": "TExjalZOvZlc"
      },
      "source": [
        "We are going to test the dataset for different models and get the one with the best accuracy"
      ]
    },
    {
      "cell_type": "code",
      "metadata": {
        "id": "ybozraVTub7F"
      },
      "source": [
        "def test_model(model):\n",
        "  scores = cross_val_score(model, X, y, cv=8, scoring='accuracy')\n",
        "  acc = scores.mean()\n",
        "  return acc"
      ],
      "execution_count": 36,
      "outputs": []
    },
    {
      "cell_type": "code",
      "metadata": {
        "id": "WbV_xbpovzkL"
      },
      "source": [
        "clf1 = SVC(kernel='linear')\n",
        "clf2 = SVC(kernel='rbf')\n",
        "clf3 = DecisionTreeClassifier()\n",
        "clf4 = RandomForestClassifier(n_estimators=80, criterion='entropy')\n",
        "clf5 = XGBClassifier(learning_rate=0.05, n_jobs=4)\n",
        "clfs = [clf1, clf2, clf3, clf4, clf5]"
      ],
      "execution_count": 37,
      "outputs": []
    },
    {
      "cell_type": "code",
      "metadata": {
        "colab": {
          "base_uri": "https://localhost:8080/"
        },
        "id": "jV46JlvVzjpV",
        "outputId": "4f4a3547-c96e-487c-e14f-3835d92da55a"
      },
      "source": [
        "for clf in clfs:\n",
        "  acc = test_model(clf)\n",
        "  print(clf, 'Accuracy score:', acc, \"\\n\")"
      ],
      "execution_count": 38,
      "outputs": [
        {
          "output_type": "stream",
          "name": "stdout",
          "text": [
            "SVC(kernel='linear') Accuracy score: 0.96875 \n",
            "\n",
            "SVC() Accuracy score: 0.9715909090909091 \n",
            "\n",
            "DecisionTreeClassifier() Accuracy score: 0.9494949494949495 \n",
            "\n",
            "RandomForestClassifier(criterion='entropy', n_estimators=80) Accuracy score: 0.96875 \n",
            "\n",
            "XGBClassifier(learning_rate=0.05, n_jobs=4) Accuracy score: 0.9684343434343434 \n",
            "\n"
          ]
        }
      ]
    },
    {
      "cell_type": "markdown",
      "metadata": {
        "id": "9o_rLaUY1xW1"
      },
      "source": [
        "# **Hyper-Parameter Tuning for different models**"
      ]
    },
    {
      "cell_type": "markdown",
      "metadata": {
        "id": "oLy6FmP1EoRN"
      },
      "source": [
        "\n",
        "\n",
        "> **Hyper Parameter Tuning for Support Vector Machines with Linear Kernel**"
      ]
    },
    {
      "cell_type": "code",
      "metadata": {
        "colab": {
          "base_uri": "https://localhost:8080/",
          "height": 349
        },
        "id": "wylFq1IB1wiy",
        "outputId": "832e4e5d-5857-48da-cf4e-872172e0273a"
      },
      "source": [
        "C_range=list(range(1,15))\n",
        "acc_score=[]\n",
        "for c in C_range:\n",
        "    svc = SVC(kernel='linear', C=c)\n",
        "    acc = test_model(svc)\n",
        "    acc_score.append(acc)\n",
        "print(acc_score)    \n",
        "# plot the value of C for SVM (x-axis) versus the cross-validated accuracy (y-axis)\n",
        "plt.plot(C_range,acc_score)\n",
        "plt.xticks(np.arange(0,17))\n",
        "plt.xlabel('Value of C for SVC')\n",
        "plt.ylabel('Cross-Validated Accuracy')\n",
        "plt.title('SVC with linear kernel')"
      ],
      "execution_count": 39,
      "outputs": [
        {
          "output_type": "stream",
          "name": "stdout",
          "text": [
            "[0.96875, 0.96875, 0.9684343434343434, 0.9681186868686869, 0.9681186868686869, 0.9681186868686869, 0.9681186868686869, 0.9681186868686869, 0.9681186868686869, 0.9681186868686869, 0.9681186868686869, 0.9681186868686869, 0.9681186868686869, 0.9681186868686869]\n"
          ]
        },
        {
          "output_type": "execute_result",
          "data": {
            "text/plain": [
              "Text(0.5, 1.0, 'SVC with linear kernel')"
            ]
          },
          "metadata": {},
          "execution_count": 39
        },
        {
          "output_type": "display_data",
          "data": {
            "image/png": "[encoded data removed]",
            "text/plain": [
              "<Figure size 432x288 with 1 Axes>"
            ]
          },
          "metadata": {
            "needs_background": "light"
          }
        }
      ]
    },
    {
      "cell_type": "code",
      "metadata": {
        "colab": {
          "base_uri": "https://localhost:8080/",
          "height": 349
        },
        "id": "_UkULVTsHKCC",
        "outputId": "f9de1fba-b5af-491b-e4bb-f72de888fda3"
      },
      "source": [
        "#Clearly, the above plot shows that for C<2, we have an accuracy of 97%\n",
        "#And for C>3, the cross val accuracy dips, so we perform more analysis to get a better interval for C in the range 0<C<3\n",
        "C_range=list(np.arange(0.1,3,0.1))\n",
        "acc_score=[]\n",
        "for c in C_range:\n",
        "    svc = SVC(kernel='linear', C=c)\n",
        "    acc = test_model(svc)\n",
        "    acc_score.append(acc)\n",
        "print(acc_score)   \n",
        "# plot the value of C for SVM (x-axis) versus the cross-validated accuracy (y-axis)\n",
        "plt.plot(C_range,acc_score)\n",
        "plt.xticks(np.arange(0.0,3.2,0.2))\n",
        "plt.xlabel('Value of C for SVC ')\n",
        "plt.ylabel('Cross-Validated Accuracy')\n",
        "plt.title('SVC with linear kernel 2')"
      ],
      "execution_count": 40,
      "outputs": [
        {
          "output_type": "stream",
          "name": "stdout",
          "text": [
            "[0.9693813131313131, 0.9690656565656566, 0.9693813131313131, 0.9690656565656566, 0.96875, 0.9684343434343434, 0.96875, 0.96875, 0.96875, 0.96875, 0.96875, 0.9690656565656566, 0.96875, 0.96875, 0.9690656565656566, 0.96875, 0.96875, 0.9684343434343434, 0.9684343434343434, 0.96875, 0.96875, 0.96875, 0.96875, 0.96875, 0.96875, 0.96875, 0.96875, 0.96875, 0.96875]\n"
          ]
        },
        {
          "output_type": "execute_result",
          "data": {
            "text/plain": [
              "Text(0.5, 1.0, 'SVC with linear kernel 2')"
            ]
          },
          "metadata": {},
          "execution_count": 40
        },
        {
          "output_type": "display_data",
          "data": {
            "image/png": "[encoded data removed]",
            "text/plain": [
              "<Figure size 432x288 with 1 Axes>"
            ]
          },
          "metadata": {
            "needs_background": "light"
          }
        }
      ]
    },
    {
      "cell_type": "markdown",
      "metadata": {
        "id": "vC9QZUvzLMcw"
      },
      "source": [
        "From the above plot, we can see the best interval for the hyper parameter, C, is \n",
        "0.1-0.3"
      ]
    },
    {
      "cell_type": "markdown",
      "metadata": {
        "id": "Bwtwvmm_Lq70"
      },
      "source": [
        "\n",
        "> ***Hyper Paramter Tuning for SVM with Radial Basis Function(RBF) Kernel***"
      ]
    },
    {
      "cell_type": "code",
      "metadata": {
        "colab": {
          "base_uri": "https://localhost:8080/",
          "height": 329
        },
        "id": "Vg3c9MMaL-uY",
        "outputId": "757f6977-f17d-46cd-a3e8-869a84bacdc9"
      },
      "source": [
        "gamma_range=[0.001,0.1,0.5,1,5,10]\n",
        "acc_score=[]\n",
        "for g in gamma_range:\n",
        "    svc = SVC(kernel='rbf', gamma=g)\n",
        "    acc = test_model(svc)\n",
        "    acc_score.append(acc)\n",
        "print(acc_score)\n",
        "plt.plot(gamma_range,acc_score)\n",
        "plt.xlabel('Value of gamma for SVC')\n",
        "plt.xticks(np.arange(0.0001,11,2))\n",
        "plt.ylabel('Cross-Validated Accuracy')\n",
        "plt.title('SVC with rbf kernel 1')"
      ],
      "execution_count": 41,
      "outputs": [
        {
          "output_type": "stream",
          "name": "stdout",
          "text": [
            "[0.9589646464646464, 0.9678030303030303, 0.9397095959595959, 0.8964646464646464, 0.6878156565656566, 0.5956439393939394]\n"
          ]
        },
        {
          "output_type": "execute_result",
          "data": {
            "text/plain": [
              "Text(0.5, 1.0, 'SVC with rbf kernel 1')"
            ]
          },
          "metadata": {},
          "execution_count": 41
        },
        {
          "output_type": "display_data",
          "data": {
            "image/png": "[encoded data removed]",
            "text/plain": [
              "<Figure size 432x288 with 1 Axes>"
            ]
          },
          "metadata": {
            "needs_background": "light"
          }
        }
      ]
    },
    {
      "cell_type": "code",
      "metadata": {
        "colab": {
          "base_uri": "https://localhost:8080/",
          "height": 329
        },
        "id": "89IkwnfwTh7r",
        "outputId": "b68b9d69-9c87-4458-ce4e-f7aeffa221dd"
      },
      "source": [
        "#Clearly the accuracy of the model reduces as gamma increases,\n",
        "#We will get a better interval of gamma for gamma<0.1\n",
        "gamma_range=[0.01,0.02,0.03,0.04,0.05]\n",
        "acc_score=[]\n",
        "for g in gamma_range:\n",
        "    svc = SVC(kernel='rbf', gamma=g)\n",
        "    acc = test_model(svc)\n",
        "    acc_score.append(acc)\n",
        "print(acc_score)    \n",
        "plt.plot(gamma_range,acc_score)\n",
        "plt.xlabel('Value of gamma for SVC ')\n",
        "plt.ylabel('Cross-Validated Accuracy')\n",
        "plt.title('SVC with rbf kernel 2')"
      ],
      "execution_count": 42,
      "outputs": [
        {
          "output_type": "stream",
          "name": "stdout",
          "text": [
            "[0.9703282828282829, 0.970959595959596, 0.9722222222222222, 0.9715909090909091, 0.9715909090909091]\n"
          ]
        },
        {
          "output_type": "execute_result",
          "data": {
            "text/plain": [
              "Text(0.5, 1.0, 'SVC with rbf kernel 2')"
            ]
          },
          "metadata": {},
          "execution_count": 42
        },
        {
          "output_type": "display_data",
          "data": {
            "image/png": "[encoded data removed]",
            "text/plain": [
              "<Figure size 432x288 with 1 Axes>"
            ]
          },
          "metadata": {
            "needs_background": "light"
          }
        }
      ]
    },
    {
      "cell_type": "markdown",
      "metadata": {
        "id": "n9vx93NDXS55"
      },
      "source": [
        "We can say the best value for gamma is approxiamtely 0.03\n"
      ]
    },
    {
      "cell_type": "code",
      "metadata": {
        "colab": {
          "base_uri": "https://localhost:8080/"
        },
        "id": "lygSngIzUNtM",
        "outputId": "0807968d-2eb7-48ba-8ee6-a7b6c9875574"
      },
      "source": [
        "tuned_parameters = {\n",
        "    'C':  (np.arange(0.1,0.5,0.1)),\n",
        "        'gamma':[0.01,0.02,0.03,0.04,0.05],\n",
        "    \n",
        "     \"kernel\":[ 'rbf', 'linear']\n",
        "\n",
        "}\n",
        "svm_model= SVC()\n",
        "\n",
        "model_svm = GridSearchCV(svm_model, tuned_parameters,cv=8,scoring='accuracy')\n",
        "\n",
        "X_train, X_test, y_train, y_test = train_test_split(X, y, test_size=0.2)\n",
        "\n",
        "model_svm.fit(X_train, y_train)\n",
        "\n",
        "print(model_svm.best_score_)\n",
        "print(model_svm.best_params_)\n",
        "\n",
        "y_pred= model_svm.predict(X_test)\n",
        "print(metrics.accuracy_score(y_pred,y_test))"
      ],
      "execution_count": 43,
      "outputs": [
        {
          "output_type": "stream",
          "name": "stdout",
          "text": [
            "0.9771093718803658\n",
            "{'C': 0.4, 'gamma': 0.05, 'kernel': 'rbf'}\n",
            "0.9747634069400631\n"
          ]
        }
      ]
    },
    {
      "cell_type": "markdown",
      "metadata": {
        "id": "ArdQGEKIXwQo"
      },
      "source": [
        "\n",
        "\n",
        "> **Hyper Parameter Tuning for XGBoost**\n",
        "\n"
      ]
    },
    {
      "cell_type": "code",
      "metadata": {
        "colab": {
          "base_uri": "https://localhost:8080/"
        },
        "id": "N3aK4mQ1Xuk9",
        "outputId": "3ebfe92a-15eb-4214-9fee-b91766243894"
      },
      "source": [
        "X = df.iloc[:, :-1]\n",
        "\n",
        "y = df.iloc[:, -1]\n",
        "enc = LabelEncoder()\n",
        "y = enc.fit_transform(y)\n",
        "\n",
        "clf1 = XGBClassifier()\n",
        "clf2 = XGBClassifier(learning_rate=0.05, gamma=2)\n",
        "clf3 = XGBClassifier(learning_rate=0.2, gamma=4, n_jobs=4)\n",
        "clf4 = XGBClassifier(learning_rate=0.05, gamma=4, n_jobs=4)\n",
        "clfs = [clf1, clf2, clf3, clf4]\n",
        "\n",
        "for model in clfs:\n",
        "  acc = test_model(model)\n",
        "  print(acc, 'for', model)"
      ],
      "execution_count": 44,
      "outputs": [
        {
          "output_type": "stream",
          "name": "stdout",
          "text": [
            "0.9696969696969697 for XGBClassifier()\n",
            "0.9681186868686869 for XGBClassifier(gamma=2, learning_rate=0.05)\n",
            "0.9700126262626263 for XGBClassifier(gamma=4, learning_rate=0.2, n_jobs=4)\n",
            "0.9684343434343434 for XGBClassifier(gamma=4, learning_rate=0.05, n_jobs=4)\n"
          ]
        }
      ]
    }
  ]
}